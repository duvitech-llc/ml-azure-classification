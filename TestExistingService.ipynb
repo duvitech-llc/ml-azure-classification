{
 "cells": [
  {
   "cell_type": "code",
   "execution_count": 1,
   "metadata": {},
   "outputs": [
    {
     "name": "stdout",
     "output_type": "stream",
     "text": [
      "Azure ML SDK Version:  1.0.83\n"
     ]
    }
   ],
   "source": [
    "%matplotlib inline\n",
    "import numpy as np\n",
    "import matplotlib\n",
    "import matplotlib.pyplot as plt\n",
    " \n",
    "import azureml\n",
    "from azureml.core import Workspace, Run\n",
    "from azureml.core.model import Model\n",
    "import os\n",
    "from azureml.core import Environment\n",
    "from azureml.core.webservice import Webservice\n",
    "from azureml.core.model import Model, InferenceConfig\n",
    "\n",
    "# Display the core SDK version number\n",
    "print(\"Azure ML SDK Version: \", azureml.core.VERSION)\n",
    "\n",
    "ws = Workspace.from_config()"
   ]
  },
  {
   "cell_type": "code",
   "execution_count": 2,
   "metadata": {},
   "outputs": [],
   "source": [
    "service_name = 'test-deploy'\n",
    "# Retrieve existing service.\n",
    "service = Webservice(name=service_name, workspace=ws)\n"
   ]
  },
  {
   "cell_type": "code",
   "execution_count": 3,
   "metadata": {},
   "outputs": [
    {
     "name": "stdout",
     "output_type": "stream",
     "text": [
      "Healthy\n",
      "2020-01-21T02:21:18,735021713+00:00 - rsyslog/run \n",
      "2020-01-21T02:21:18,734238109+00:00 - gunicorn/run \n",
      "2020-01-21T02:21:18,737002221+00:00 - iot-server/run \n",
      "2020-01-21T02:21:18,833335538+00:00 - nginx/run \n",
      "EdgeHubConnectionString and IOTEDGE_IOTHUBHOSTNAME are not set. Exiting...\n",
      "2020-01-21T02:21:21,033380557+00:00 - iot-server/finish 1 0\n",
      "2020-01-21T02:21:21,133332690+00:00 - Exit code 1 is normal. Not restarting iot-server.\n",
      "Starting gunicorn 19.9.0\n",
      "Listening at: http://127.0.0.1:31311 (12)\n",
      "Using worker: sync\n",
      "worker timeout is set to 300\n",
      "Booting worker with pid: 43\n",
      "Initializing logger\n",
      "Starting up app insights client\n",
      "Starting up request id generator\n",
      "Starting up app insight hooks\n",
      "Invoking user's init function\n",
      "/opt/miniconda/lib/python3.6/site-packages/sklearn/externals/joblib/__init__.py:15: FutureWarning: sklearn.externals.joblib is deprecated in 0.21 and will be removed in 0.23. Please import this functionality directly from joblib, which can be installed with: pip install joblib. If this warning is raised when loading pickled models, you may need to re-serialize those models with scikit-learn 0.21+.\n",
      "  warnings.warn(msg, category=FutureWarning)\n",
      "Users's init has completed successfully\n",
      "Scoring timeout is found from os.environ: 60000 ms\n",
      "Received input: {}\n",
      "Headers passed in (total 11):\n",
      "\tHost: localhost:5001\n",
      "\tX-Real-Ip: 127.0.0.1\n",
      "\tX-Forwarded-For: 127.0.0.1\n",
      "\tX-Forwarded-Proto: http\n",
      "\tConnection: close\n",
      "\tUser-Agent: Mozilla/5.0 (Windows NT 10.0; Win64; x64) AppleWebKit/537.36 (KHTML, like Gecko) Chrome/79.0.3945.117 Safari/537.36\n",
      "\tAccept: text/html,application/xhtml+xml,application/xml;q=0.9,image/webp,image/apng,*/*;q=0.8,application/signed-exchange;v=b3;q=0.9\n",
      "\tAccept-Encoding: gzip, deflate\n",
      "\tAccept-Language: en-US,en;q=0.9\n",
      "\tUpgrade-Insecure-Requests: 1\n",
      "\tX-Ms-Request-Id: f1e0812b-60d7-49bb-b2ea-931b2f85569b\n",
      "Scoring Timer is set to 60.0 seconds\n",
      "Encountered Exception: Traceback (most recent call last):\n",
      "  File \"/var/azureml-server/app.py\", line 226, in run_scoring\n",
      "    response = invoke_user_with_timer(service_input, request_headers)\n",
      "  File \"/var/azureml-server/app.py\", line 296, in invoke_user_with_timer\n",
      "    result = user_main.run(**params)\n",
      "  File \"/var/azureml-app/main.py\", line 47, in run\n",
      "    return_obj = driver_module.run(**arguments)\n",
      "  File \"score.py\", line 17, in run\n",
      "    data = np.array(json.loads(raw_data)['data'])\n",
      "KeyError: 'data'\n",
      "\n",
      "During handling of the above exception, another exception occurred:\n",
      "\n",
      "Traceback (most recent call last):\n",
      "  File \"/opt/miniconda/lib/python3.6/site-packages/flask/app.py\", line 1832, in full_dispatch_request\n",
      "    rv = self.dispatch_request()\n",
      "  File \"/opt/miniconda/lib/python3.6/site-packages/flask/app.py\", line 1818, in dispatch_request\n",
      "    return self.view_functions[rule.endpoint](**req.view_args)\n",
      "  File \"/var/azureml-server/app.py\", line 120, in get_prediction_realtime\n",
      "    return run_scoring(service_input, request.headers, request.environ.get('REQUEST_ID', '00000000-0000-0000-0000-000000000000'))\n",
      "  File \"/var/azureml-server/app.py\", line 239, in run_scoring\n",
      "    raise RunFunctionException(str(exc))\n",
      "run_function_exception.RunFunctionException\n",
      "\n",
      "500\n",
      "127.0.0.1 - - [21/Jan/2020:02:22:20 +0000] \"GET /score HTTP/1.0\" 500 6 \"-\" \"Mozilla/5.0 (Windows NT 10.0; Win64; x64) AppleWebKit/537.36 (KHTML, like Gecko) Chrome/79.0.3945.117 Safari/537.36\"\n",
      "127.0.0.1 - - [21/Jan/2020:02:22:20 +0000] \"GET /favicon.ico HTTP/1.0\" 404 232 \"http://8cc3605f-4e8e-44b0-a6a5-bf1ec7ce2765.eastus.azurecontainer.io/score\" \"Mozilla/5.0 (Windows NT 10.0; Win64; x64) AppleWebKit/537.36 (KHTML, like Gecko) Chrome/79.0.3945.117 Safari/537.36\"\n",
      "Exception in worker process\n",
      "Traceback (most recent call last):\n",
      "  File \"/opt/miniconda/lib/python3.6/site-packages/gunicorn/arbiter.py\", line 583, in spawn_worker\n",
      "    worker.init_process()\n",
      "  File \"/opt/miniconda/lib/python3.6/site-packages/gunicorn/workers/base.py\", line 134, in init_process\n",
      "    self.run()\n",
      "  File \"/opt/miniconda/lib/python3.6/site-packages/gunicorn/workers/sync.py\", line 124, in run\n",
      "    self.run_for_one(timeout)\n",
      "  File \"/opt/miniconda/lib/python3.6/site-packages/gunicorn/workers/sync.py\", line 83, in run_for_one\n",
      "    self.wait(timeout)\n",
      "  File \"/opt/miniconda/lib/python3.6/site-packages/gunicorn/workers/sync.py\", line 35, in wait\n",
      "    ret = select.select(self.wait_fds, [], [], timeout)\n",
      "  File \"/var/azureml-server/app.py\", line 266, in alarm_handler\n",
      "    raise TimeoutException(error_message)\n",
      "timeout_exception.TimeoutException\n",
      "Worker exiting (pid: 43)\n",
      "worker timeout is set to 300\n",
      "Booting worker with pid: 45\n",
      "Initializing logger\n",
      "Starting up app insights client\n",
      "Starting up request id generator\n",
      "Starting up app insight hooks\n",
      "Invoking user's init function\n",
      "Users's init has completed successfully\n",
      "/opt/miniconda/lib/python3.6/site-packages/sklearn/externals/joblib/__init__.py:15: FutureWarning: sklearn.externals.joblib is deprecated in 0.21 and will be removed in 0.23. Please import this functionality directly from joblib, which can be installed with: pip install joblib. If this warning is raised when loading pickled models, you may need to re-serialize those models with scikit-learn 0.21+.\n",
      "  warnings.warn(msg, category=FutureWarning)\n",
      "Scoring timeout is found from os.environ: 60000 ms\n",
      "\n"
     ]
    }
   ],
   "source": [
    "print(service.state)\n",
    "print(service.get_logs())"
   ]
  },
  {
   "cell_type": "code",
   "execution_count": 4,
   "metadata": {},
   "outputs": [
    {
     "name": "stdout",
     "output_type": "stream",
     "text": [
      "http://8cc3605f-4e8e-44b0-a6a5-bf1ec7ce2765.eastus.azurecontainer.io/score\n"
     ]
    }
   ],
   "source": [
    "print(service.scoring_uri)"
   ]
  },
  {
   "cell_type": "markdown",
   "metadata": {},
   "source": [
    "### Test the deployed service\n",
    "\n",
    "Earlier, you scored all the test data with the local version of the model. Now you can test the deployed model with a random sample of 30 images from the test data.\n",
    "\n",
    "The following code goes through these steps:\n",
    "\n",
    "1. Send the data as a JSON array to the web service hosted in Container Instances.\n",
    "\n",
    "2. Use the SDK's run API to invoke the service. You can also make raw calls by using any HTTP tool such as curl.\n",
    "\n",
    "3. Print the returned predictions and plot them along with the input images. Red font and inverse image, white on black, is used to highlight the misclassified samples.\n",
    "\n",
    "Because the model accuracy is high, you might have to run the following code a few times before you can see a misclassified "
   ]
  },
  {
   "cell_type": "code",
   "execution_count": 6,
   "metadata": {},
   "outputs": [
    {
     "data": {
      "image/png": "[encoded data removed]",
      "text/plain": [
       "<Figure size 1440x72 with 30 Axes>"
      ]
     },
     "metadata": {
      "needs_background": "light"
     },
     "output_type": "display_data"
    }
   ],
   "source": [
    "import os\n",
    "import json\n",
    "import gzip\n",
    "import numpy as np\n",
    "import struct\n",
    "\n",
    "\n",
    "# load compressed MNIST gz files and return numpy arrays\n",
    "\n",
    "def load_data(filename, label=False):\n",
    "    with gzip.open(filename) as gz:\n",
    "        struct.unpack('I', gz.read(4))\n",
    "        n_items = struct.unpack('>I', gz.read(4))\n",
    "        if not label:\n",
    "            n_rows = struct.unpack('>I', gz.read(4))[0]\n",
    "            n_cols = struct.unpack('>I', gz.read(4))[0]\n",
    "            res = np.frombuffer(gz.read(n_items[0] * n_rows * n_cols), dtype=np.uint8)\n",
    "            res = res.reshape(n_items[0], n_rows * n_cols)\n",
    "        else:\n",
    "            res = np.frombuffer(gz.read(n_items[0]), dtype=np.uint8)\n",
    "            res = res.reshape(n_items[0], 1)\n",
    "    return res\n",
    "\n",
    "\n",
    "# one-hot encode a 1-D array\n",
    "\n",
    "def one_hot_encode(array, num_of_classes):\n",
    "    return np.eye(num_of_classes)[array.reshape(-1)]\n",
    "\n",
    "data_folder = os.path.join(os.getcwd(), 'data')\n",
    "\n",
    "# note we also shrink the intensity values (X) from 0-255 to 0-1. This helps the neural network converge faster\n",
    "\n",
    "X_test = load_data(os.path.join(data_folder, 't10k-images-idx3-ubyte.gz'), False) / 255.0\n",
    "y_test = load_data(os.path.join(data_folder, 't10k-labels-idx1-ubyte.gz'), True).reshape(-1)\n",
    "\n",
    "# find 30 random samples from test set\n",
    "n = 30\n",
    "sample_indices = np.random.permutation(X_test.shape[0])[0:n]\n",
    "\n",
    "test_samples = json.dumps({\"data\": X_test[sample_indices].tolist()})\n",
    "test_samples = bytes(test_samples, encoding='utf8')\n",
    "\n",
    "# predict using the deployed model\n",
    "result = service.run(input_data=test_samples)\n",
    "\n",
    "# compare actual value vs. the predicted values:\n",
    "i = 0\n",
    "plt.figure(figsize=(20, 1))\n",
    "\n",
    "for s in sample_indices:\n",
    "    plt.subplot(1, n, i + 1)\n",
    "    plt.axhline('')\n",
    "    plt.axvline('')\n",
    "    \n",
    "    # use different color for misclassified sample\n",
    "    font_color = 'red' if y_test[s] != result[i] else 'black'\n",
    "    clr_map = plt.cm.gray if y_test[s] != result[i] else plt.cm.Greys\n",
    "    \n",
    "    plt.text(x=10, y=-10, s=result[i], fontsize=18, color=font_color)\n",
    "    plt.imshow(X_test[s].reshape(28, 28), cmap=clr_map)\n",
    "    \n",
    "    i = i + 1\n",
    "plt.show()"
   ]
  },
  {
   "cell_type": "markdown",
   "metadata": {},
   "source": [
    "You can also send a raw HTTP request to test the web service:\n"
   ]
  },
  {
   "cell_type": "code",
   "execution_count": 7,
   "metadata": {},
   "outputs": [
    {
     "name": "stdout",
     "output_type": "stream",
     "text": [
      "POST to url http://8cc3605f-4e8e-44b0-a6a5-bf1ec7ce2765.eastus.azurecontainer.io/score\n",
      "label: 8\n",
      "prediction: [8]\n"
     ]
    }
   ],
   "source": [
    "import requests\n",
    "\n",
    "# send a random row from the test set to score\n",
    "random_index = np.random.randint(0, len(X_test)-1)\n",
    "input_data = \"{\\\"data\\\": [\" + str(list(X_test[random_index])) + \"]}\"\n",
    "\n",
    "headers = {'Content-Type': 'application/json'}\n",
    "\n",
    "# for AKS deployment you'd need to the service key in the header as well\n",
    "# api_key = service.get_key()\n",
    "# headers = {'Content-Type':'application/json',  'Authorization':('Bearer '+ api_key)} \n",
    "\n",
    "resp = requests.post(service.scoring_uri, input_data, headers=headers)\n",
    "\n",
    "print(\"POST to url\", service.scoring_uri)\n",
    "#print(\"input data:\", input_data)\n",
    "print(\"label:\", y_test[random_index])\n",
    "print(\"prediction:\", resp.text)"
   ]
  },
  {
   "cell_type": "code",
   "execution_count": 8,
   "metadata": {},
   "outputs": [],
   "source": [
    "service.delete()"
   ]
  },
  {
   "cell_type": "code",
   "execution_count": null,
   "metadata": {},
   "outputs": [],
   "source": []
  }
 ],
 "metadata": {
  "kernelspec": {
   "display_name": "Python 3",
   "language": "python",
   "name": "python3"
  },
  "language_info": {
   "codemirror_mode": {
    "name": "ipython",
    "version": 3
   },
   "file_extension": ".py",
   "mimetype": "text/x-python",
   "name": "python",
   "nbconvert_exporter": "python",
   "pygments_lexer": "ipython3",
   "version": "3.7.5"
  }
 },
 "nbformat": 4,
 "nbformat_minor": 2
}
